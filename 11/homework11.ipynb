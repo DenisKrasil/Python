{
 "cells": [
  {
   "cell_type": "code",
   "execution_count": 1,
   "id": "bde59552",
   "metadata": {},
   "outputs": [],
   "source": [
    "from sympy import *\n",
    "from sympy.abc import x\n",
    "\n",
    "expr = -12*(x**4)*sin(cos(x))-18*x**3+5*x**2+10*x-30\n",
    "precision = 100\n",
    "start = -3\n",
    "end = 3\n",
    "\n",
    "xs = [x/precision for x in range(start*precision, end*precision + 1)]\n",
    "ys = [expr.subs(x, value) for value in xs]\n",
    "points = list(zip(xs, ys))"
   ]
  },
  {
   "cell_type": "code",
   "execution_count": 3,
   "id": "2bdb472d",
   "metadata": {},
   "outputs": [
    {
     "name": "stdout",
     "output_type": "stream",
     "text": [
      "Интервалы возрастания:\n",
      "[-0.39, 0.45] [1.7, 3.0]\n",
      "Интервалы убывания:\n",
      "[-3.0, -0.39] [0.45, 1.7]\n"
     ]
    }
   ],
   "source": [
    "#интервалы возрастания и убывания\n",
    "points = list(zip(xs, ys))\n",
    "increasing, decreasing = [], []\n",
    "flag_increase = True\n",
    "while len(points) >= 2:\n",
    "    counter = 0\n",
    "    if flag_increase:\n",
    "        while points[counter][0] < end and points[counter + 1][1] > points[counter][1]:\n",
    "            counter += 1\n",
    "        if counter != 0:\n",
    "            increasing.append([points[0][0], points[counter][0]])\n",
    "        flag_increase = False\n",
    "    else:\n",
    "        while points[counter][0] < end and points[counter + 1][1] < points[counter][1]:\n",
    "            counter += 1\n",
    "        if counter != 0:\n",
    "            decreasing.append([points[0][0], points[counter][0]])\n",
    "        flag_increase = True\n",
    "    del points[:counter]\n",
    "\n",
    "print(\"Интервалы возрастания:\")\n",
    "print(*increasing)\n",
    "print(\"Интервалы убывания:\")\n",
    "print(*decreasing)"
   ]
  },
  {
   "cell_type": "code",
   "execution_count": 8,
   "id": "19783d6a",
   "metadata": {},
   "outputs": [
    {
     "data": {
      "image/png": "[encoded data removed]",
      "text/plain": [
       "<Figure size 432x288 with 1 Axes>"
      ]
     },
     "metadata": {
      "needs_background": "light"
     },
     "output_type": "display_data"
    }
   ],
   "source": [
    "# график\n",
    "import matplotlib.pyplot as plt\n",
    "\n",
    "x = [-12*x**4*sin(cos(x))-18*x**3+5*x**2+10*x-30 for x in range(-20, 21)]\n",
    "y = [y for y in range(-20, 21)]\n",
    "plt.plot(y, x)\n",
    "plt.show()"
   ]
  },
  {
   "cell_type": "code",
   "execution_count": 5,
   "id": "09637615",
   "metadata": {},
   "outputs": [
    {
     "name": "stdout",
     "output_type": "stream",
     "text": [
      "Точки экстремума:\n",
      "(-0.39, -32.2934502471160) (0.45, -26.5133423096216) (1.7, -74.1062343439542)\n"
     ]
    }
   ],
   "source": [
    "#нахождение вершин на заданном отрезке\n",
    "points = list(zip(xs, ys))\n",
    "extrema = []\n",
    "flag_incr = True\n",
    "prior = points[0]\n",
    "for current in points[1:]:\n",
    "    if (flag_incr and prior[1] > current[1]) or (not flag_incr and prior[1] < current[1]):\n",
    "        prior = current\n",
    "        continue\n",
    "    else:\n",
    "        extrema.append(prior)\n",
    "        prior = current\n",
    "        flag_incr = not flag_incr\n",
    "\n",
    "print(\"Точки экстремума:\")\n",
    "print(*extrema)"
   ]
  },
  {
   "cell_type": "code",
   "execution_count": 6,
   "id": "fbd3e92d",
   "metadata": {},
   "outputs": [
    {
     "name": "stdout",
     "output_type": "stream",
     "text": [
      "Интервалы, на котором f > 0:\n",
      "[-3.0, -1.35] [2.28, 2.98]\n",
      "Интервалы, на котором f < 0:\n",
      "[-1.33, 2.26]\n"
     ]
    }
   ],
   "source": [
    "# нахождение промежутов, где f > 0 и f < 0\n",
    "points = list(zip(xs, ys))\n",
    "above, below = [], []\n",
    "flag_increase = False\n",
    "while len(points) >= 2:\n",
    "    counter = 0\n",
    "    if flag_increase:\n",
    "        while points[counter][0] < end and points[counter][1] > 0:\n",
    "            counter += 1\n",
    "        if counter != 0:\n",
    "            above.append([points[0][0], points[counter - 2][0]])\n",
    "        flag_increase = False\n",
    "    else:\n",
    "        while points[counter][0] < end and points[counter][1] < 0:\n",
    "            counter += 1\n",
    "        if counter != 0:\n",
    "            below.append([points[0][0], points[counter - 2][0]])\n",
    "        flag_increase = True\n",
    "    del points[:counter]\n",
    "\n",
    "print(\"Интервалы, на котором f > 0:\")\n",
    "print(*above)\n",
    "print(\"Интервалы, на котором f < 0:\")\n",
    "print(*below)"
   ]
  },
  {
   "cell_type": "code",
   "execution_count": null,
   "id": "ca7b7fc7",
   "metadata": {},
   "outputs": [],
   "source": []
  }
 ],
 "metadata": {
  "kernelspec": {
   "display_name": "Python 3 (ipykernel)",
   "language": "python",
   "name": "python3"
  },
  "language_info": {
   "codemirror_mode": {
    "name": "ipython",
    "version": 3
   },
   "file_extension": ".py",
   "mimetype": "text/x-python",
   "name": "python",
   "nbconvert_exporter": "python",
   "pygments_lexer": "ipython3",
   "version": "3.9.12"
  }
 },
 "nbformat": 4,
 "nbformat_minor": 5
}
